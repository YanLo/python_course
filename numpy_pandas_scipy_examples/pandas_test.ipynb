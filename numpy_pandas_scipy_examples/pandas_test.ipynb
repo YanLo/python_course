{
 "cells": [
  {
   "cell_type": "code",
   "execution_count": 2,
   "metadata": {},
   "outputs": [],
   "source": [
    "import pandas as pd"
   ]
  },
  {
   "cell_type": "code",
   "execution_count": 27,
   "metadata": {},
   "outputs": [],
   "source": [
    "bike_data_file = pd.read_csv('201809-citibike-tripdata.csv')"
   ]
  },
  {
   "cell_type": "code",
   "execution_count": 5,
   "metadata": {},
   "outputs": [
    {
     "data": {
      "text/plain": [
       "pandas.core.frame.DataFrame"
      ]
     },
     "execution_count": 5,
     "metadata": {},
     "output_type": "execute_result"
    }
   ],
   "source": [
    "type(bike_data_file)"
   ]
  },
  {
   "cell_type": "code",
   "execution_count": 14,
   "metadata": {},
   "outputs": [
    {
     "data": {
      "text/plain": [
       "(1877884, 15)"
      ]
     },
     "execution_count": 14,
     "metadata": {},
     "output_type": "execute_result"
    }
   ],
   "source": [
    "bike_data_file.shape"
   ]
  },
  {
   "cell_type": "code",
   "execution_count": 17,
   "metadata": {},
   "outputs": [
    {
     "data": {
      "text/html": [
       "<div>\n",
       "<style scoped>\n",
       "    .dataframe tbody tr th:only-of-type {\n",
       "        vertical-align: middle;\n",
       "    }\n",
       "\n",
       "    .dataframe tbody tr th {\n",
       "        vertical-align: top;\n",
       "    }\n",
       "\n",
       "    .dataframe thead th {\n",
       "        text-align: right;\n",
       "    }\n",
       "</style>\n",
       "<table border=\"1\" class=\"dataframe\">\n",
       "  <thead>\n",
       "    <tr style=\"text-align: right;\">\n",
       "      <th></th>\n",
       "      <th>tripduration</th>\n",
       "      <th>starttime</th>\n",
       "      <th>stoptime</th>\n",
       "      <th>start station id</th>\n",
       "      <th>start station name</th>\n",
       "      <th>start station latitude</th>\n",
       "      <th>start station longitude</th>\n",
       "      <th>end station id</th>\n",
       "      <th>end station name</th>\n",
       "      <th>end station latitude</th>\n",
       "      <th>end station longitude</th>\n",
       "      <th>bikeid</th>\n",
       "      <th>usertype</th>\n",
       "      <th>birth year</th>\n",
       "      <th>gender</th>\n",
       "    </tr>\n",
       "  </thead>\n",
       "  <tbody>\n",
       "    <tr>\n",
       "      <th>0</th>\n",
       "      <td>1635</td>\n",
       "      <td>2018-09-01 00:00:05.2690</td>\n",
       "      <td>2018-09-01 00:27:20.6340</td>\n",
       "      <td>252.0</td>\n",
       "      <td>MacDougal St &amp; Washington Sq</td>\n",
       "      <td>40.732264</td>\n",
       "      <td>-73.998522</td>\n",
       "      <td>366.0</td>\n",
       "      <td>Clinton Ave &amp; Myrtle Ave</td>\n",
       "      <td>40.693261</td>\n",
       "      <td>-73.968896</td>\n",
       "      <td>25577</td>\n",
       "      <td>Subscriber</td>\n",
       "      <td>1980</td>\n",
       "      <td>1</td>\n",
       "    </tr>\n",
       "  </tbody>\n",
       "</table>\n",
       "</div>"
      ],
      "text/plain": [
       "   tripduration                 starttime                  stoptime  \\\n",
       "0          1635  2018-09-01 00:00:05.2690  2018-09-01 00:27:20.6340   \n",
       "\n",
       "   start station id            start station name  start station latitude  \\\n",
       "0             252.0  MacDougal St & Washington Sq               40.732264   \n",
       "\n",
       "   start station longitude  end station id          end station name  \\\n",
       "0               -73.998522           366.0  Clinton Ave & Myrtle Ave   \n",
       "\n",
       "   end station latitude  end station longitude  bikeid    usertype  \\\n",
       "0             40.693261             -73.968896   25577  Subscriber   \n",
       "\n",
       "   birth year  gender  \n",
       "0        1980       1  "
      ]
     },
     "execution_count": 17,
     "metadata": {},
     "output_type": "execute_result"
    }
   ],
   "source": [
    "bike_data_file.head(1)"
   ]
  },
  {
   "cell_type": "code",
   "execution_count": 24,
   "metadata": {},
   "outputs": [
    {
     "data": {
      "text/plain": [
       "16.125248648656324"
      ]
     },
     "execution_count": 24,
     "metadata": {},
     "output_type": "execute_result"
    }
   ],
   "source": [
    "bike_data_file['tripduration'].mean() / 60"
   ]
  },
  {
   "cell_type": "code",
   "execution_count": 30,
   "metadata": {},
   "outputs": [
    {
     "data": {
      "text/plain": [
       "(41364, 15)"
      ]
     },
     "execution_count": 30,
     "metadata": {},
     "output_type": "execute_result"
    }
   ],
   "source": [
    "bike_data_file[bike_data_file['start station id'] == bike_data_file['end station id']].shape"
   ]
  },
  {
   "cell_type": "code",
   "execution_count": 137,
   "metadata": {},
   "outputs": [
    {
     "data": {
      "text/plain": [
       "tripduration    17548\n",
       "dtype: int64"
      ]
     },
     "execution_count": 137,
     "metadata": {},
     "output_type": "execute_result"
    }
   ],
   "source": [
    "bike_data_file.groupby(['bikeid'])[['tripduration']].mean().idxmax()"
   ]
  },
  {
   "cell_type": "code",
   "execution_count": 85,
   "metadata": {},
   "outputs": [
    {
     "data": {
      "text/plain": [
       "tripduration               716\n",
       "starttime                  716\n",
       "stoptime                   716\n",
       "start station id             0\n",
       "start station name           0\n",
       "start station latitude     716\n",
       "start station longitude    716\n",
       "end station id               0\n",
       "end station name             0\n",
       "end station latitude       716\n",
       "end station longitude      716\n",
       "bikeid                     716\n",
       "usertype                   716\n",
       "birth year                 716\n",
       "gender                     716\n",
       "dtype: int64"
      ]
     },
     "execution_count": 85,
     "metadata": {},
     "output_type": "execute_result"
    }
   ],
   "source": [
    "bike_data_file[bike_data_file['start station id'].isnull()].count()"
   ]
  },
  {
   "cell_type": "code",
   "execution_count": 97,
   "metadata": {},
   "outputs": [
    {
     "data": {
      "text/html": [
       "<div>\n",
       "<style scoped>\n",
       "    .dataframe tbody tr th:only-of-type {\n",
       "        vertical-align: middle;\n",
       "    }\n",
       "\n",
       "    .dataframe tbody tr th {\n",
       "        vertical-align: top;\n",
       "    }\n",
       "\n",
       "    .dataframe thead th {\n",
       "        text-align: right;\n",
       "    }\n",
       "</style>\n",
       "<table border=\"1\" class=\"dataframe\">\n",
       "  <thead>\n",
       "    <tr style=\"text-align: right;\">\n",
       "      <th></th>\n",
       "      <th>tripduration</th>\n",
       "    </tr>\n",
       "    <tr>\n",
       "      <th>usertype</th>\n",
       "      <th></th>\n",
       "    </tr>\n",
       "  </thead>\n",
       "  <tbody>\n",
       "    <tr>\n",
       "      <th>Customer</th>\n",
       "      <td>33.415379</td>\n",
       "    </tr>\n",
       "    <tr>\n",
       "      <th>Subscriber</th>\n",
       "      <td>13.332348</td>\n",
       "    </tr>\n",
       "  </tbody>\n",
       "</table>\n",
       "</div>"
      ],
      "text/plain": [
       "            tripduration\n",
       "usertype                \n",
       "Customer       33.415379\n",
       "Subscriber     13.332348"
      ]
     },
     "execution_count": 97,
     "metadata": {},
     "output_type": "execute_result"
    }
   ],
   "source": [
    "bike_data_file.groupby(['usertype'])[['tripduration']].mean() / 60"
   ]
  },
  {
   "cell_type": "code",
   "execution_count": 104,
   "metadata": {},
   "outputs": [
    {
     "data": {
      "text/html": [
       "<div>\n",
       "<style scoped>\n",
       "    .dataframe tbody tr th:only-of-type {\n",
       "        vertical-align: middle;\n",
       "    }\n",
       "\n",
       "    .dataframe tbody tr th {\n",
       "        vertical-align: top;\n",
       "    }\n",
       "\n",
       "    .dataframe thead th {\n",
       "        text-align: right;\n",
       "    }\n",
       "</style>\n",
       "<table border=\"1\" class=\"dataframe\">\n",
       "  <thead>\n",
       "    <tr style=\"text-align: right;\">\n",
       "      <th></th>\n",
       "      <th>tripduration</th>\n",
       "      <th>starttime</th>\n",
       "      <th>stoptime</th>\n",
       "      <th>start station id</th>\n",
       "      <th>start station name</th>\n",
       "      <th>start station latitude</th>\n",
       "      <th>start station longitude</th>\n",
       "      <th>end station id</th>\n",
       "      <th>end station name</th>\n",
       "      <th>end station latitude</th>\n",
       "      <th>end station longitude</th>\n",
       "      <th>bikeid</th>\n",
       "      <th>usertype</th>\n",
       "      <th>birth year</th>\n",
       "      <th>gender</th>\n",
       "    </tr>\n",
       "  </thead>\n",
       "  <tbody>\n",
       "    <tr>\n",
       "      <th>0</th>\n",
       "      <td>1635</td>\n",
       "      <td>2018-09-01 00:00:05.2690</td>\n",
       "      <td>2018-09-01 00:27:20.6340</td>\n",
       "      <td>252.0</td>\n",
       "      <td>MacDougal St &amp; Washington Sq</td>\n",
       "      <td>40.732264</td>\n",
       "      <td>-73.998522</td>\n",
       "      <td>366.0</td>\n",
       "      <td>Clinton Ave &amp; Myrtle Ave</td>\n",
       "      <td>40.693261</td>\n",
       "      <td>-73.968896</td>\n",
       "      <td>25577</td>\n",
       "      <td>Subscriber</td>\n",
       "      <td>1980</td>\n",
       "      <td>1</td>\n",
       "    </tr>\n",
       "  </tbody>\n",
       "</table>\n",
       "</div>"
      ],
      "text/plain": [
       "   tripduration                 starttime                  stoptime  \\\n",
       "0          1635  2018-09-01 00:00:05.2690  2018-09-01 00:27:20.6340   \n",
       "\n",
       "   start station id            start station name  start station latitude  \\\n",
       "0             252.0  MacDougal St & Washington Sq               40.732264   \n",
       "\n",
       "   start station longitude  end station id          end station name  \\\n",
       "0               -73.998522           366.0  Clinton Ave & Myrtle Ave   \n",
       "\n",
       "   end station latitude  end station longitude  bikeid    usertype  \\\n",
       "0             40.693261             -73.968896   25577  Subscriber   \n",
       "\n",
       "   birth year  gender  \n",
       "0        1980       1  "
      ]
     },
     "execution_count": 104,
     "metadata": {},
     "output_type": "execute_result"
    }
   ],
   "source": [
    "bike_data_file.head(1)"
   ]
  },
  {
   "cell_type": "code",
   "execution_count": 190,
   "metadata": {},
   "outputs": [],
   "source": [
    "from geopy.distance import vincenty\n",
    "\n",
    "def calculate_distance(row):\n",
    "    coords_1 = (row['start station latitude'], row['start station longitude'])\n",
    "    coords_2 = (row['end station latitude'], row['end station longitude'])\n",
    "    return vincenty(coords_1, coords_2).km\n",
    "\n"
   ]
  },
  {
   "cell_type": "code",
   "execution_count": 195,
   "metadata": {
    "scrolled": true
   },
   "outputs": [
    {
     "name": "stderr",
     "output_type": "stream",
     "text": [
      "/home/yan/python_course/week_1/playground/env/lib/python3.6/site-packages/ipykernel_launcher.py:6: DeprecationWarning: Vincenty is deprecated and is going to be removed in geopy 2.0. Use `geopy.distance.geodesic` (or the default `geopy.distance.distance`) instead, which is more accurate and always converges.\n",
      "  \n"
     ]
    },
    {
     "data": {
      "text/plain": [
       "1.8495860826008172"
      ]
     },
     "execution_count": 195,
     "metadata": {},
     "output_type": "execute_result"
    }
   ],
   "source": [
    "needfull_data = bike_data_file[bike_data_file['start station id'] != bike_data_file['end station id']]\n",
    "mean_distance = needfull_data.apply(calculate_distance, axis=1).mean()\n",
    "mean_distance"
   ]
  },
  {
   "cell_type": "code",
   "execution_count": 141,
   "metadata": {},
   "outputs": [
    {
     "data": {
      "text/plain": [
       "33875"
      ]
     },
     "execution_count": 141,
     "metadata": {},
     "output_type": "execute_result"
    }
   ],
   "source": [
    "bike_data_file.groupby(['bikeid'])['bikeid'].size().idxmax()"
   ]
  },
  {
   "cell_type": "code",
   "execution_count": 198,
   "metadata": {},
   "outputs": [],
   "source": [
    "import datetime\n",
    "\n",
    "def get_hour_from_datetime(row):\n",
    "    return datetime.datetime.strptime(row['starttime'], '%Y-%m-%d %H:%M:%S.%f').hour"
   ]
  },
  {
   "cell_type": "code",
   "execution_count": 199,
   "metadata": {},
   "outputs": [
    {
     "ename": "TypeError",
     "evalue": "('strptime() argument 1 must be str, not Series', 'occurred at index 0')",
     "output_type": "error",
     "traceback": [
      "\u001b[0;31m---------------------------------------------------------------------------\u001b[0m",
      "\u001b[0;31mTypeError\u001b[0m                                 Traceback (most recent call last)",
      "\u001b[0;32m<ipython-input-199-8b807fa48bdc>\u001b[0m in \u001b[0;36m<module>\u001b[0;34m\u001b[0m\n\u001b[0;32m----> 1\u001b[0;31m \u001b[0mneedfull_data\u001b[0m\u001b[0;34m.\u001b[0m\u001b[0mapply\u001b[0m\u001b[0;34m(\u001b[0m\u001b[0mget_hour_from_datetime_str\u001b[0m\u001b[0;34m,\u001b[0m \u001b[0maxis\u001b[0m\u001b[0;34m=\u001b[0m\u001b[0;36m1\u001b[0m\u001b[0;34m)\u001b[0m\u001b[0;34m\u001b[0m\u001b[0;34m\u001b[0m\u001b[0m\n\u001b[0m",
      "\u001b[0;32m~/python_course/week_1/playground/env/lib/python3.6/site-packages/pandas/core/frame.py\u001b[0m in \u001b[0;36mapply\u001b[0;34m(self, func, axis, broadcast, raw, reduce, result_type, args, **kwds)\u001b[0m\n\u001b[1;32m   6485\u001b[0m                          \u001b[0margs\u001b[0m\u001b[0;34m=\u001b[0m\u001b[0margs\u001b[0m\u001b[0;34m,\u001b[0m\u001b[0;34m\u001b[0m\u001b[0;34m\u001b[0m\u001b[0m\n\u001b[1;32m   6486\u001b[0m                          kwds=kwds)\n\u001b[0;32m-> 6487\u001b[0;31m         \u001b[0;32mreturn\u001b[0m \u001b[0mop\u001b[0m\u001b[0;34m.\u001b[0m\u001b[0mget_result\u001b[0m\u001b[0;34m(\u001b[0m\u001b[0;34m)\u001b[0m\u001b[0;34m\u001b[0m\u001b[0;34m\u001b[0m\u001b[0m\n\u001b[0m\u001b[1;32m   6488\u001b[0m \u001b[0;34m\u001b[0m\u001b[0m\n\u001b[1;32m   6489\u001b[0m     \u001b[0;32mdef\u001b[0m \u001b[0mapplymap\u001b[0m\u001b[0;34m(\u001b[0m\u001b[0mself\u001b[0m\u001b[0;34m,\u001b[0m \u001b[0mfunc\u001b[0m\u001b[0;34m)\u001b[0m\u001b[0;34m:\u001b[0m\u001b[0;34m\u001b[0m\u001b[0;34m\u001b[0m\u001b[0m\n",
      "\u001b[0;32m~/python_course/week_1/playground/env/lib/python3.6/site-packages/pandas/core/apply.py\u001b[0m in \u001b[0;36mget_result\u001b[0;34m(self)\u001b[0m\n\u001b[1;32m    149\u001b[0m             \u001b[0;32mreturn\u001b[0m \u001b[0mself\u001b[0m\u001b[0;34m.\u001b[0m\u001b[0mapply_raw\u001b[0m\u001b[0;34m(\u001b[0m\u001b[0;34m)\u001b[0m\u001b[0;34m\u001b[0m\u001b[0;34m\u001b[0m\u001b[0m\n\u001b[1;32m    150\u001b[0m \u001b[0;34m\u001b[0m\u001b[0m\n\u001b[0;32m--> 151\u001b[0;31m         \u001b[0;32mreturn\u001b[0m \u001b[0mself\u001b[0m\u001b[0;34m.\u001b[0m\u001b[0mapply_standard\u001b[0m\u001b[0;34m(\u001b[0m\u001b[0;34m)\u001b[0m\u001b[0;34m\u001b[0m\u001b[0;34m\u001b[0m\u001b[0m\n\u001b[0m\u001b[1;32m    152\u001b[0m \u001b[0;34m\u001b[0m\u001b[0m\n\u001b[1;32m    153\u001b[0m     \u001b[0;32mdef\u001b[0m \u001b[0mapply_empty_result\u001b[0m\u001b[0;34m(\u001b[0m\u001b[0mself\u001b[0m\u001b[0;34m)\u001b[0m\u001b[0;34m:\u001b[0m\u001b[0;34m\u001b[0m\u001b[0;34m\u001b[0m\u001b[0m\n",
      "\u001b[0;32m~/python_course/week_1/playground/env/lib/python3.6/site-packages/pandas/core/apply.py\u001b[0m in \u001b[0;36mapply_standard\u001b[0;34m(self)\u001b[0m\n\u001b[1;32m    255\u001b[0m \u001b[0;34m\u001b[0m\u001b[0m\n\u001b[1;32m    256\u001b[0m         \u001b[0;31m# compute the result using the series generator\u001b[0m\u001b[0;34m\u001b[0m\u001b[0;34m\u001b[0m\u001b[0;34m\u001b[0m\u001b[0m\n\u001b[0;32m--> 257\u001b[0;31m         \u001b[0mself\u001b[0m\u001b[0;34m.\u001b[0m\u001b[0mapply_series_generator\u001b[0m\u001b[0;34m(\u001b[0m\u001b[0;34m)\u001b[0m\u001b[0;34m\u001b[0m\u001b[0;34m\u001b[0m\u001b[0m\n\u001b[0m\u001b[1;32m    258\u001b[0m \u001b[0;34m\u001b[0m\u001b[0m\n\u001b[1;32m    259\u001b[0m         \u001b[0;31m# wrap results\u001b[0m\u001b[0;34m\u001b[0m\u001b[0;34m\u001b[0m\u001b[0;34m\u001b[0m\u001b[0m\n",
      "\u001b[0;32m~/python_course/week_1/playground/env/lib/python3.6/site-packages/pandas/core/apply.py\u001b[0m in \u001b[0;36mapply_series_generator\u001b[0;34m(self)\u001b[0m\n\u001b[1;32m    284\u001b[0m             \u001b[0;32mtry\u001b[0m\u001b[0;34m:\u001b[0m\u001b[0;34m\u001b[0m\u001b[0;34m\u001b[0m\u001b[0m\n\u001b[1;32m    285\u001b[0m                 \u001b[0;32mfor\u001b[0m \u001b[0mi\u001b[0m\u001b[0;34m,\u001b[0m \u001b[0mv\u001b[0m \u001b[0;32min\u001b[0m \u001b[0menumerate\u001b[0m\u001b[0;34m(\u001b[0m\u001b[0mseries_gen\u001b[0m\u001b[0;34m)\u001b[0m\u001b[0;34m:\u001b[0m\u001b[0;34m\u001b[0m\u001b[0;34m\u001b[0m\u001b[0m\n\u001b[0;32m--> 286\u001b[0;31m                     \u001b[0mresults\u001b[0m\u001b[0;34m[\u001b[0m\u001b[0mi\u001b[0m\u001b[0;34m]\u001b[0m \u001b[0;34m=\u001b[0m \u001b[0mself\u001b[0m\u001b[0;34m.\u001b[0m\u001b[0mf\u001b[0m\u001b[0;34m(\u001b[0m\u001b[0mv\u001b[0m\u001b[0;34m)\u001b[0m\u001b[0;34m\u001b[0m\u001b[0;34m\u001b[0m\u001b[0m\n\u001b[0m\u001b[1;32m    287\u001b[0m                     \u001b[0mkeys\u001b[0m\u001b[0;34m.\u001b[0m\u001b[0mappend\u001b[0m\u001b[0;34m(\u001b[0m\u001b[0mv\u001b[0m\u001b[0;34m.\u001b[0m\u001b[0mname\u001b[0m\u001b[0;34m)\u001b[0m\u001b[0;34m\u001b[0m\u001b[0;34m\u001b[0m\u001b[0m\n\u001b[1;32m    288\u001b[0m             \u001b[0;32mexcept\u001b[0m \u001b[0mException\u001b[0m \u001b[0;32mas\u001b[0m \u001b[0me\u001b[0m\u001b[0;34m:\u001b[0m\u001b[0;34m\u001b[0m\u001b[0;34m\u001b[0m\u001b[0m\n",
      "\u001b[0;32m<ipython-input-155-43592aa7aa1c>\u001b[0m in \u001b[0;36mget_hour_from_datetime_str\u001b[0;34m(date_time_str)\u001b[0m\n\u001b[1;32m      2\u001b[0m \u001b[0;34m\u001b[0m\u001b[0m\n\u001b[1;32m      3\u001b[0m \u001b[0;32mdef\u001b[0m \u001b[0mget_hour_from_datetime_str\u001b[0m\u001b[0;34m(\u001b[0m\u001b[0mdate_time_str\u001b[0m\u001b[0;34m)\u001b[0m\u001b[0;34m:\u001b[0m\u001b[0;34m\u001b[0m\u001b[0;34m\u001b[0m\u001b[0m\n\u001b[0;32m----> 4\u001b[0;31m     \u001b[0;32mreturn\u001b[0m \u001b[0mdatetime\u001b[0m\u001b[0;34m.\u001b[0m\u001b[0mdatetime\u001b[0m\u001b[0;34m.\u001b[0m\u001b[0mstrptime\u001b[0m\u001b[0;34m(\u001b[0m\u001b[0mdate_time_str\u001b[0m\u001b[0;34m,\u001b[0m \u001b[0;34m'%Y-%m-%d %H:%M:%S.%f'\u001b[0m\u001b[0;34m)\u001b[0m\u001b[0;34m.\u001b[0m\u001b[0mhour\u001b[0m\u001b[0;34m\u001b[0m\u001b[0;34m\u001b[0m\u001b[0m\n\u001b[0m",
      "\u001b[0;31mTypeError\u001b[0m: ('strptime() argument 1 must be str, not Series', 'occurred at index 0')"
     ]
    }
   ],
   "source": [
    "needfull_data.apply(get_hour_from_datetime_str, axis=1)"
   ]
  },
  {
   "cell_type": "code",
   "execution_count": 172,
   "metadata": {
    "collapsed": true
   },
   "outputs": [
    {
     "data": {
      "text/html": [
       "<div>\n",
       "<style scoped>\n",
       "    .dataframe tbody tr th:only-of-type {\n",
       "        vertical-align: middle;\n",
       "    }\n",
       "\n",
       "    .dataframe tbody tr th {\n",
       "        vertical-align: top;\n",
       "    }\n",
       "\n",
       "    .dataframe thead th {\n",
       "        text-align: right;\n",
       "    }\n",
       "</style>\n",
       "<table border=\"1\" class=\"dataframe\">\n",
       "  <thead>\n",
       "    <tr style=\"text-align: right;\">\n",
       "      <th></th>\n",
       "      <th>starttime</th>\n",
       "    </tr>\n",
       "  </thead>\n",
       "  <tbody>\n",
       "    <tr>\n",
       "      <th>0</th>\n",
       "      <td>2018-09-01 00:00:05.2690</td>\n",
       "    </tr>\n",
       "    <tr>\n",
       "      <th>1</th>\n",
       "      <td>2018-09-01 00:00:11.2810</td>\n",
       "    </tr>\n",
       "    <tr>\n",
       "      <th>2</th>\n",
       "      <td>2018-09-01 00:00:20.6490</td>\n",
       "    </tr>\n",
       "    <tr>\n",
       "      <th>3</th>\n",
       "      <td>2018-09-01 00:00:21.7460</td>\n",
       "    </tr>\n",
       "    <tr>\n",
       "      <th>4</th>\n",
       "      <td>2018-09-01 00:00:27.3150</td>\n",
       "    </tr>\n",
       "    <tr>\n",
       "      <th>5</th>\n",
       "      <td>2018-09-01 00:00:29.3030</td>\n",
       "    </tr>\n",
       "    <tr>\n",
       "      <th>6</th>\n",
       "      <td>2018-09-01 00:00:27.2780</td>\n",
       "    </tr>\n",
       "    <tr>\n",
       "      <th>7</th>\n",
       "      <td>2018-09-01 00:00:31.4250</td>\n",
       "    </tr>\n",
       "    <tr>\n",
       "      <th>8</th>\n",
       "      <td>2018-09-01 00:00:30.9660</td>\n",
       "    </tr>\n",
       "    <tr>\n",
       "      <th>9</th>\n",
       "      <td>2018-09-01 00:00:42.1670</td>\n",
       "    </tr>\n",
       "    <tr>\n",
       "      <th>10</th>\n",
       "      <td>2018-09-01 00:00:45.2480</td>\n",
       "    </tr>\n",
       "    <tr>\n",
       "      <th>11</th>\n",
       "      <td>2018-09-01 00:00:45.7840</td>\n",
       "    </tr>\n",
       "    <tr>\n",
       "      <th>12</th>\n",
       "      <td>2018-09-01 00:01:12.1920</td>\n",
       "    </tr>\n",
       "    <tr>\n",
       "      <th>13</th>\n",
       "      <td>2018-09-01 00:01:16.2250</td>\n",
       "    </tr>\n",
       "    <tr>\n",
       "      <th>14</th>\n",
       "      <td>2018-09-01 00:01:19.1080</td>\n",
       "    </tr>\n",
       "    <tr>\n",
       "      <th>15</th>\n",
       "      <td>2018-09-01 00:01:20.0300</td>\n",
       "    </tr>\n",
       "    <tr>\n",
       "      <th>16</th>\n",
       "      <td>2018-09-01 00:01:29.1710</td>\n",
       "    </tr>\n",
       "    <tr>\n",
       "      <th>17</th>\n",
       "      <td>2018-09-01 00:01:32.9170</td>\n",
       "    </tr>\n",
       "    <tr>\n",
       "      <th>18</th>\n",
       "      <td>2018-09-01 00:01:46.8690</td>\n",
       "    </tr>\n",
       "    <tr>\n",
       "      <th>19</th>\n",
       "      <td>2018-09-01 00:02:03.7960</td>\n",
       "    </tr>\n",
       "    <tr>\n",
       "      <th>20</th>\n",
       "      <td>2018-09-01 00:02:07.5200</td>\n",
       "    </tr>\n",
       "    <tr>\n",
       "      <th>21</th>\n",
       "      <td>2018-09-01 00:02:19.7770</td>\n",
       "    </tr>\n",
       "    <tr>\n",
       "      <th>22</th>\n",
       "      <td>2018-09-01 00:02:22.8150</td>\n",
       "    </tr>\n",
       "    <tr>\n",
       "      <th>23</th>\n",
       "      <td>2018-09-01 00:02:21.3210</td>\n",
       "    </tr>\n",
       "    <tr>\n",
       "      <th>24</th>\n",
       "      <td>2018-09-01 00:02:30.1860</td>\n",
       "    </tr>\n",
       "    <tr>\n",
       "      <th>25</th>\n",
       "      <td>2018-09-01 00:02:34.1100</td>\n",
       "    </tr>\n",
       "    <tr>\n",
       "      <th>26</th>\n",
       "      <td>2018-09-01 00:02:40.5310</td>\n",
       "    </tr>\n",
       "    <tr>\n",
       "      <th>27</th>\n",
       "      <td>2018-09-01 00:02:40.1510</td>\n",
       "    </tr>\n",
       "    <tr>\n",
       "      <th>28</th>\n",
       "      <td>2018-09-01 00:02:42.7440</td>\n",
       "    </tr>\n",
       "    <tr>\n",
       "      <th>29</th>\n",
       "      <td>2018-09-01 00:02:45.5570</td>\n",
       "    </tr>\n",
       "    <tr>\n",
       "      <th>...</th>\n",
       "      <td>...</td>\n",
       "    </tr>\n",
       "    <tr>\n",
       "      <th>1877854</th>\n",
       "      <td>2018-09-30 23:57:40.8410</td>\n",
       "    </tr>\n",
       "    <tr>\n",
       "      <th>1877855</th>\n",
       "      <td>2018-09-30 23:57:43.9930</td>\n",
       "    </tr>\n",
       "    <tr>\n",
       "      <th>1877856</th>\n",
       "      <td>2018-09-30 23:57:50.5420</td>\n",
       "    </tr>\n",
       "    <tr>\n",
       "      <th>1877857</th>\n",
       "      <td>2018-09-30 23:58:15.5890</td>\n",
       "    </tr>\n",
       "    <tr>\n",
       "      <th>1877858</th>\n",
       "      <td>2018-09-30 23:58:23.5640</td>\n",
       "    </tr>\n",
       "    <tr>\n",
       "      <th>1877859</th>\n",
       "      <td>2018-09-30 23:58:29.7150</td>\n",
       "    </tr>\n",
       "    <tr>\n",
       "      <th>1877860</th>\n",
       "      <td>2018-09-30 23:58:30.7450</td>\n",
       "    </tr>\n",
       "    <tr>\n",
       "      <th>1877861</th>\n",
       "      <td>2018-09-30 23:58:34.7820</td>\n",
       "    </tr>\n",
       "    <tr>\n",
       "      <th>1877862</th>\n",
       "      <td>2018-09-30 23:58:37.6470</td>\n",
       "    </tr>\n",
       "    <tr>\n",
       "      <th>1877863</th>\n",
       "      <td>2018-09-30 23:58:40.0860</td>\n",
       "    </tr>\n",
       "    <tr>\n",
       "      <th>1877864</th>\n",
       "      <td>2018-09-30 23:59:02.1730</td>\n",
       "    </tr>\n",
       "    <tr>\n",
       "      <th>1877865</th>\n",
       "      <td>2018-09-30 23:59:05.9420</td>\n",
       "    </tr>\n",
       "    <tr>\n",
       "      <th>1877866</th>\n",
       "      <td>2018-09-30 23:59:11.3740</td>\n",
       "    </tr>\n",
       "    <tr>\n",
       "      <th>1877867</th>\n",
       "      <td>2018-09-30 23:59:13.2830</td>\n",
       "    </tr>\n",
       "    <tr>\n",
       "      <th>1877868</th>\n",
       "      <td>2018-09-30 23:59:15.5250</td>\n",
       "    </tr>\n",
       "    <tr>\n",
       "      <th>1877869</th>\n",
       "      <td>2018-09-30 23:59:28.4510</td>\n",
       "    </tr>\n",
       "    <tr>\n",
       "      <th>1877870</th>\n",
       "      <td>2018-09-30 23:59:33.5240</td>\n",
       "    </tr>\n",
       "    <tr>\n",
       "      <th>1877871</th>\n",
       "      <td>2018-09-30 23:59:38.9630</td>\n",
       "    </tr>\n",
       "    <tr>\n",
       "      <th>1877872</th>\n",
       "      <td>2018-09-30 23:59:44.1330</td>\n",
       "    </tr>\n",
       "    <tr>\n",
       "      <th>1877873</th>\n",
       "      <td>2018-09-30 23:59:46.8790</td>\n",
       "    </tr>\n",
       "    <tr>\n",
       "      <th>1877874</th>\n",
       "      <td>2018-09-30 23:59:53.9750</td>\n",
       "    </tr>\n",
       "    <tr>\n",
       "      <th>1877875</th>\n",
       "      <td>2018-09-30 23:59:56.4460</td>\n",
       "    </tr>\n",
       "    <tr>\n",
       "      <th>1877876</th>\n",
       "      <td>2018-09-29 10:51:16.3010</td>\n",
       "    </tr>\n",
       "    <tr>\n",
       "      <th>1877877</th>\n",
       "      <td>2018-09-29 19:19:13.8790</td>\n",
       "    </tr>\n",
       "    <tr>\n",
       "      <th>1877878</th>\n",
       "      <td>2018-09-29 19:29:49.6230</td>\n",
       "    </tr>\n",
       "    <tr>\n",
       "      <th>1877879</th>\n",
       "      <td>2018-09-30 00:27:25.9840</td>\n",
       "    </tr>\n",
       "    <tr>\n",
       "      <th>1877880</th>\n",
       "      <td>2018-09-30 00:30:30.1850</td>\n",
       "    </tr>\n",
       "    <tr>\n",
       "      <th>1877881</th>\n",
       "      <td>2018-09-30 08:10:03.1790</td>\n",
       "    </tr>\n",
       "    <tr>\n",
       "      <th>1877882</th>\n",
       "      <td>2018-09-30 12:20:13.6830</td>\n",
       "    </tr>\n",
       "    <tr>\n",
       "      <th>1877883</th>\n",
       "      <td>2018-09-30 14:10:01.1620</td>\n",
       "    </tr>\n",
       "  </tbody>\n",
       "</table>\n",
       "<p>1877884 rows × 1 columns</p>\n",
       "</div>"
      ],
      "text/plain": [
       "                        starttime\n",
       "0        2018-09-01 00:00:05.2690\n",
       "1        2018-09-01 00:00:11.2810\n",
       "2        2018-09-01 00:00:20.6490\n",
       "3        2018-09-01 00:00:21.7460\n",
       "4        2018-09-01 00:00:27.3150\n",
       "5        2018-09-01 00:00:29.3030\n",
       "6        2018-09-01 00:00:27.2780\n",
       "7        2018-09-01 00:00:31.4250\n",
       "8        2018-09-01 00:00:30.9660\n",
       "9        2018-09-01 00:00:42.1670\n",
       "10       2018-09-01 00:00:45.2480\n",
       "11       2018-09-01 00:00:45.7840\n",
       "12       2018-09-01 00:01:12.1920\n",
       "13       2018-09-01 00:01:16.2250\n",
       "14       2018-09-01 00:01:19.1080\n",
       "15       2018-09-01 00:01:20.0300\n",
       "16       2018-09-01 00:01:29.1710\n",
       "17       2018-09-01 00:01:32.9170\n",
       "18       2018-09-01 00:01:46.8690\n",
       "19       2018-09-01 00:02:03.7960\n",
       "20       2018-09-01 00:02:07.5200\n",
       "21       2018-09-01 00:02:19.7770\n",
       "22       2018-09-01 00:02:22.8150\n",
       "23       2018-09-01 00:02:21.3210\n",
       "24       2018-09-01 00:02:30.1860\n",
       "25       2018-09-01 00:02:34.1100\n",
       "26       2018-09-01 00:02:40.5310\n",
       "27       2018-09-01 00:02:40.1510\n",
       "28       2018-09-01 00:02:42.7440\n",
       "29       2018-09-01 00:02:45.5570\n",
       "...                           ...\n",
       "1877854  2018-09-30 23:57:40.8410\n",
       "1877855  2018-09-30 23:57:43.9930\n",
       "1877856  2018-09-30 23:57:50.5420\n",
       "1877857  2018-09-30 23:58:15.5890\n",
       "1877858  2018-09-30 23:58:23.5640\n",
       "1877859  2018-09-30 23:58:29.7150\n",
       "1877860  2018-09-30 23:58:30.7450\n",
       "1877861  2018-09-30 23:58:34.7820\n",
       "1877862  2018-09-30 23:58:37.6470\n",
       "1877863  2018-09-30 23:58:40.0860\n",
       "1877864  2018-09-30 23:59:02.1730\n",
       "1877865  2018-09-30 23:59:05.9420\n",
       "1877866  2018-09-30 23:59:11.3740\n",
       "1877867  2018-09-30 23:59:13.2830\n",
       "1877868  2018-09-30 23:59:15.5250\n",
       "1877869  2018-09-30 23:59:28.4510\n",
       "1877870  2018-09-30 23:59:33.5240\n",
       "1877871  2018-09-30 23:59:38.9630\n",
       "1877872  2018-09-30 23:59:44.1330\n",
       "1877873  2018-09-30 23:59:46.8790\n",
       "1877874  2018-09-30 23:59:53.9750\n",
       "1877875  2018-09-30 23:59:56.4460\n",
       "1877876  2018-09-29 10:51:16.3010\n",
       "1877877  2018-09-29 19:19:13.8790\n",
       "1877878  2018-09-29 19:29:49.6230\n",
       "1877879  2018-09-30 00:27:25.9840\n",
       "1877880  2018-09-30 00:30:30.1850\n",
       "1877881  2018-09-30 08:10:03.1790\n",
       "1877882  2018-09-30 12:20:13.6830\n",
       "1877883  2018-09-30 14:10:01.1620\n",
       "\n",
       "[1877884 rows x 1 columns]"
      ]
     },
     "execution_count": 172,
     "metadata": {},
     "output_type": "execute_result"
    }
   ],
   "source": [
    "#stations where departure is between 18 to 20\n",
    "hours_frame = bike_data_file[['starttime']]\n",
    "\n",
    "\n",
    "#hours_frame.apply(lambda x: get_hour_from_datetime_str(x[0]))"
   ]
  },
  {
   "cell_type": "code",
   "execution_count": null,
   "metadata": {},
   "outputs": [],
   "source": []
  }
 ],
 "metadata": {
  "kernelspec": {
   "display_name": "Python 3",
   "language": "python",
   "name": "python3"
  },
  "language_info": {
   "codemirror_mode": {
    "name": "ipython",
    "version": 3
   },
   "file_extension": ".py",
   "mimetype": "text/x-python",
   "name": "python",
   "nbconvert_exporter": "python",
   "pygments_lexer": "ipython3",
   "version": "3.6.7"
  }
 },
 "nbformat": 4,
 "nbformat_minor": 2
}
